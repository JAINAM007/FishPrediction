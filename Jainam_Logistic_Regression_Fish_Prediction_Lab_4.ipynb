{
  "nbformat": 4,
  "nbformat_minor": 0,
  "metadata": {
    "colab": {
      "name": "Jainam_Logistic_Regression_Fish_Prediction_Lab_4.ipynb",
      "provenance": [],
      "collapsed_sections": []
    },
    "kernelspec": {
      "name": "python3",
      "display_name": "Python 3"
    },
    "language_info": {
      "name": "python"
    }
  },
  "cells": [
    {
      "cell_type": "code",
      "metadata": {
        "id": "k7MizXovXX2A"
      },
      "source": [
        "from sklearn.linear_model import LogisticRegression\n",
        "import numpy as np\n",
        "import pandas as pd\n",
        "from sklearn.model_selection import train_test_split\n",
        "from sklearn.preprocessing import LabelEncoder\n",
        "from sklearn.metrics import accuracy_score\n",
        "\n",
        "# Importing data\n",
        "data = pd.read_csv('Fish.csv')\n",
        "label = LabelEncoder()\n",
        "data['Species'] = label.fit_transform(data['Species'])\n",
        "\n",
        "# Test and train 75% and 25% split \n",
        "X_train, X_test, y_train, y_test = train_test_split( data.drop('Species', axis=1),data['Species'], test_size=0.25, random_state=42)\n"
      ],
      "execution_count": 5,
      "outputs": []
    },
    {
      "cell_type": "code",
      "metadata": {
        "id": "V7gf36RwXj2D"
      },
      "source": [
        "Model = LogisticRegression(random_state=0, max_iter=5000)\n",
        "Model.fit(X_train, y_train)\n",
        "pred = Model.predict(X_test)\n",
        "ac_score = accuracy_score(y_test,pred)\n",
        "print(\"The Accuracy is : \",ac_score*100)"
      ],
      "execution_count": null,
      "outputs": []
    },
    {
      "cell_type": "code",
      "metadata": {
        "id": "Ljvf-nbrdXnq"
      },
      "source": [
        "#Creating the pickle file \n",
        "import pickle\n",
        "pickle_out = open(\"fish.pkl\",'wb')\n",
        "pickle.dump(Model,pickle_out)\n",
        "pickle_out.close()"
      ],
      "execution_count": 7,
      "outputs": []
    }
  ]
}